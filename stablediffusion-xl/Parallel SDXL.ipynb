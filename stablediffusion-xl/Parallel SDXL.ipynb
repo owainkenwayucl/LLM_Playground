{
 "cells": [
  {
   "cell_type": "code",
   "execution_count": null,
   "metadata": {},
   "outputs": [],
   "source": [
    "from sdxl import parallel_inference, prompt_to_filename\n",
    "from IPython.display import Image"
   ]
  },
  {
   "cell_type": "code",
   "execution_count": null,
   "metadata": {},
   "outputs": [],
   "source": [
    "prompt = \"Ezermal on Conjurer - the power of AI, oil paint\"\n",
    "iterations = 100\n",
    "split = False\n",
    "num = 8\n",
    "fname = prompt_to_filename(prompt)\n",
    "\n",
    "images = parallel_inference(prompt=prompt, denoise=split, num_gen=num, pipe_steps=iterations, fname=fname, save=True)\n",
    "\n",
    "for a in images:\n",
    "    display(a)"
   ]
  }
 ],
 "metadata": {
  "kernelspec": {
   "display_name": "stablediffusion",
   "language": "python",
   "name": "stablediffusion"
  },
  "language_info": {
   "codemirror_mode": {
    "name": "ipython",
    "version": 3
   },
   "file_extension": ".py",
   "mimetype": "text/x-python",
   "name": "python",
   "nbconvert_exporter": "python",
   "pygments_lexer": "ipython3",
   "version": "3.11.5"
  }
 },
 "nbformat": 4,
 "nbformat_minor": 4
}
